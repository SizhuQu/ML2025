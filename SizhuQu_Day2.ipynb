{
  "nbformat": 4,
  "nbformat_minor": 0,
  "metadata": {
    "colab": {
      "provenance": [],
      "authorship_tag": "ABX9TyM+mQt6OAwvdWWMPn6kLT4f",
      "include_colab_link": true
    },
    "kernelspec": {
      "name": "python3",
      "display_name": "Python 3"
    },
    "language_info": {
      "name": "python"
    }
  },
  "cells": [
    {
      "cell_type": "markdown",
      "metadata": {
        "id": "view-in-github",
        "colab_type": "text"
      },
      "source": [
        "<a href=\"https://colab.research.google.com/github/SizhuQu/ML2025/blob/main/SizhuQu_Day2.ipynb\" target=\"_parent\"><img src=\"https://colab.research.google.com/assets/colab-badge.svg\" alt=\"Open In Colab\"/></a>"
      ]
    },
    {
      "cell_type": "markdown",
      "source": [
        " Create a notebook that constructs an array z consisting of 1000 random numbers drawn from the set {0, 1, 2}. Implement two versions of a function that counts the number of appearances of the subsequence (2,0,1) in your array of random numbers:"
      ],
      "metadata": {
        "id": "DG_4cj3zf_6v"
      }
    },
    {
      "cell_type": "code",
      "execution_count": 3,
      "metadata": {
        "colab": {
          "base_uri": "https://localhost:8080/"
        },
        "collapsed": true,
        "id": "XauOZnLWfnrc",
        "outputId": "ad730716-9192-4289-c5f1-adb87b4f807d"
      },
      "outputs": [
        {
          "output_type": "stream",
          "name": "stdout",
          "text": [
            "[1 1 0 1 1 0 1 1 0 1 1 2 0 0 1 2 1 1 2 0 2 1 2 0 2 2 1 2 2 0 1 1 0 1 0 1 1\n",
            " 0 2 0 2 2 0 0 1 1 0 1 0 1 1 1 0 1 2 2 1 1 2 1 2 1 2 0 0 2 2 0 1 2 0 0 2 1\n",
            " 0 0 2 2 2 0 2 2 1 1 2 0 1 0 0 2 2 2 1 1 2 1 1 0 1 0 2 2 1 0 2 2 0 0 1 0 2\n",
            " 2 1 2 2 1 2 0 0 1 0 2 1 1 2 0 2 1 1 1 0 1 0 0 1 2 1 1 2 1 1 2 1 0 2 1 2 0\n",
            " 1 1 1 1 0 0 1 0 0 0 0 1 2 0 1 2 1 1 2 1 1 2 2 0 1 0 1 0 2 0 1 1 2 1 0 1 2\n",
            " 2 1 1 2 2 1 1 0 2 1 1 0 2 1 1 2 1 2 0 0 0 1 1 2 1 2 0 2 0 2 2 0 2 2 1 1 1\n",
            " 2 2 1 1 0 1 1 0 1 2 1 1 2 2 0 2 2 2 0 0 1 2 1 0 0 1 2 0 1 0 2 0 1 0 1 1 0\n",
            " 2 1 2 2 0 1 0 2 0 2 0 0 1 2 0 0 2 1 1 0 1 0 1 0 0 0 1 2 0 0 0 0 0 2 1 1 1\n",
            " 2 2 0 2 0 1 0 0 1 2 1 2 1 1 0 2 1 1 2 2 0 1 1 1 2 0 2 1 2 1 0 2 1 0 0 2 0\n",
            " 2 1 1 0 0 1 0 1 1 2 0 2 1 1 2 0 1 2 1 2 1 1 2 0 1 0 0 0 0 2 1 1 2 1 2 2 1\n",
            " 0 0 2 0 2 1 0 1 1 2 0 2 0 0 2 1 2 1 1 2 2 0 1 1 1 2 2 1 0 0 1 2 0 1 0 0 2\n",
            " 1 0 0 0 0 2 1 2 1 0 2 0 2 0 1 1 1 2 1 1 2 2 2 1 0 2 1 0 2 1 1 2 1 0 0 1 2\n",
            " 2 0 2 0 1 2 1 2 1 0 0 0 2 0 0 1 0 2 0 0 1 0 1 2 2 0 0 1 2 1 0 0 0 2 2 0 1\n",
            " 1 0 1 1 2 2 2 1 1 2 1 2 0 2 2 2 1 0 1 1 0 1 0 0 2 2 1 1 1 1 2 0 0 0 2 2 0\n",
            " 0 1 1 0 0 2 1 1 2 0 0 0 0 1 2 2 0 2 1 2 0 1 1 1 0 1 1 1 1 0 2 2 0 2 2 1 0\n",
            " 2 0 2 2 0 2 2 1 2 0 2 1 2 2 0 1 0 1 1 1 2 0 0 0 2 1 0 2 0 2 1 1 0 2 2 0 2\n",
            " 2 0 0 2 2 2 0 2 2 0 1 0 2 2 2 2 2 0 0 0 1 2 0 1 2 1 0 2 0 2 2 0 2 1 1 2 2\n",
            " 0 2 2 2 2 2 0 2 2 2 2 1 1 1 2 2 1 1 2 2 0 0 1 1 2 2 2 2 0 0 2 0 0 1 1 0 1\n",
            " 1 1 0 0 1 2 2 0 1 2 0 0 0 2 1 1 1 2 0 0 1 1 2 1 0 1 2 0 0 1 0 0 1 2 1 2 0\n",
            " 1 1 0 0 1 1 2 2 1 2 2 0 0 0 2 2 2 0 2 2 1 2 2 0 0 1 2 0 1 0 2 0 0 0 2 0 2\n",
            " 0 1 0 2 1 2 2 0 2 0 2 1 2 0 2 0 2 1 2 2 2 0 2 1 2 0 1 1 0 0 2 0 1 2 2 0 0\n",
            " 0 0 2 1 1 1 1 1 1 1 1 2 2 2 2 0 1 1 0 0 0 2 2 1 0 2 0 0 0 1 2 0 2 0 0 1 1\n",
            " 0 0 0 0 1 2 1 0 0 1 0 1 1 2 2 0 0 0 0 1 1 0 1 0 1 0 1 1 1 1 0 1 0 2 2 1 2\n",
            " 1 1 2 0 2 1 0 1 0 0 2 2 0 1 2 0 1 1 1 1 0 2 1 0 2 0 0 2 2 1 2 1 0 1 0 2 1\n",
            " 0 1 2 2 0 1 2 2 0 1 2 2 1 1 2 1 2 0 2 0 1 2 2 0 2 2 1 1 2 0 1 1 2 1 2 1 2\n",
            " 2 2 0 0 0 2 1 2 1 2 1 2 2 2 0 2 2 0 2 2 0 1 1 0 1 0 0 2 0 1 1 1 0 0 1 0 2\n",
            " 0 2 1 1 2 1 1 1 0 2 0 1 0 2 0 2 1 2 2 2 0 1 0 0 0 1 0 0 1 1 1 0 2 2 0 1 1\n",
            " 0]\n"
          ]
        }
      ],
      "source": [
        "import numpy as np\n",
        "z = np.random.choice([0, 1, 2], size=1000)\n",
        "print(z)"
      ]
    },
    {
      "cell_type": "markdown",
      "source": [
        "The first version should work with a loop that accesses array z element-wise and makes element-wise comparisons."
      ],
      "metadata": {
        "id": "H_JDIB7_gzWb"
      }
    },
    {
      "cell_type": "code",
      "source": [
        "def count_loop(z):\n",
        "    count = 0\n",
        "    for i in range(len(z) - 2):\n",
        "        if z[i] == 2 and z[i + 1] == 0 and z[i + 2] == 1:\n",
        "            count += 1\n",
        "    return count\n",
        "\n",
        "loop_count = count_loop(z)\n",
        "print(f\"Count using loop: {loop_count}\")"
      ],
      "metadata": {
        "colab": {
          "base_uri": "https://localhost:8080/"
        },
        "id": "QLz268TIg9OM",
        "outputId": "4cc40a6f-1344-4805-cd21-f8fe06c0719e"
      },
      "execution_count": 8,
      "outputs": [
        {
          "output_type": "stream",
          "name": "stdout",
          "text": [
            "Count using loop: 41\n"
          ]
        }
      ]
    },
    {
      "cell_type": "markdown",
      "source": [
        "The second version should be vectorized, which operates on (almost) the whole array z. Try using the numpy function logical_and to implement this.\n"
      ],
      "metadata": {
        "id": "neJw8JS_g2Da"
      }
    },
    {
      "cell_type": "code",
      "source": [
        "def count_vectorized(z):\n",
        "    condition1 = z[:-2] == 2\n",
        "    condition2 = z[1:-1] == 0\n",
        "    condition3 = z[2:] == 1\n",
        "    matches = np.logical_and(np.logical_and(condition1, condition2), condition3)\n",
        "    return np.sum(matches)\n",
        "vectorized_count = count_vectorized(z)\n",
        "print(f\"Count using vectorized: {vectorized_count}\")"
      ],
      "metadata": {
        "colab": {
          "base_uri": "https://localhost:8080/"
        },
        "id": "07T7LbiWhLZc",
        "outputId": "d990a93d-d290-4170-9f76-e269d6135135"
      },
      "execution_count": 7,
      "outputs": [
        {
          "output_type": "stream",
          "name": "stdout",
          "text": [
            "Count using vectorized: 41\n"
          ]
        }
      ]
    },
    {
      "cell_type": "markdown",
      "source": [
        "Compare the runtime of the two versions."
      ],
      "metadata": {
        "id": "ImeJDOtMg78Z"
      }
    },
    {
      "cell_type": "code",
      "source": [
        "import time\n",
        "\n",
        "start_time = time.time()\n",
        "loop_count = count_loop(z)\n",
        "loop_time = time.time() - start_time\n",
        "\n",
        "start_time = time.time()\n",
        "vectorized_count = count_vectorized(z)\n",
        "vectorized_time = time.time() - start_time\n",
        "\n",
        "print(f\"Loop version count: {loop_count}, time: {loop_time:.6f} seconds\")\n",
        "print(f\"Vectorized version count: {vectorized_count}, time: {vectorized_time:.6f} seconds\")"
      ],
      "metadata": {
        "colab": {
          "base_uri": "https://localhost:8080/"
        },
        "id": "Wcr7b8u1hdqd",
        "outputId": "fa18987c-4738-460f-b6d9-36f2b949b5bf"
      },
      "execution_count": 9,
      "outputs": [
        {
          "output_type": "stream",
          "name": "stdout",
          "text": [
            "Loop version count: 41, time: 0.000686 seconds\n",
            "Vectorized version count: 41, time: 0.000364 seconds\n"
          ]
        }
      ]
    }
  ]
}